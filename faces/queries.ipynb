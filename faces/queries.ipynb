{
 "cells": [
  {
   "cell_type": "code",
   "execution_count": 3,
   "metadata": {},
   "outputs": [],
   "source": [
    "import os\n",
    "from django.conf import settings"
   ]
  },
  {
   "cell_type": "code",
   "execution_count": 4,
   "metadata": {},
   "outputs": [],
   "source": [
    "BASE_DIR = os.path.join('.')"
   ]
  },
  {
   "cell_type": "code",
   "execution_count": 5,
   "metadata": {},
   "outputs": [],
   "source": [
    "settings.configure(\n",
    "    BASE_DIR=BASE_DIR,\n",
    "    INSTALLED_APPS=[\n",
    "        'django.contrib.admin',\n",
    "        'django.contrib.auth',\n",
    "        'django.contrib.contenttypes',\n",
    "        'django.contrib.sessions',\n",
    "        'django.contrib.messages',\n",
    "        'django.contrib.staticfiles',\n",
    "\n",
    "        # 'rest_framework',\n",
    "        # 'rest_framework.authtoken',\n",
    "        # 'corsheaders',\n",
    "        # 'django_extensions',\n",
    "\n",
    "        'scores'\n",
    "    ],\n",
    "    DATABASES={\n",
    "        'default': {\n",
    "            'ENGINE': 'django.db.backends.sqlite3',\n",
    "            'NAME': os.path.join(BASE_DIR, 'my_faces.sqlite3')\n",
    "        }\n",
    "    },\n",
    "    MEDIA_URL='/media/',\n",
    "    MEDIA_ROOT=os.path.join(BASE_DIR, 'media'),\n",
    "    CACHES={\n",
    "        'default': {\n",
    "            'BACKEND': 'django.core.cache.backends.filebased.FileBasedCache',\n",
    "            'LOCATION': os.path.join(BASE_DIR, 'cache'),\n",
    "        }\n",
    "    }\n",
    "\n",
    ")"
   ]
  },
  {
   "cell_type": "code",
   "execution_count": 6,
   "metadata": {},
   "outputs": [],
   "source": [
    "import django"
   ]
  },
  {
   "cell_type": "code",
   "execution_count": 7,
   "metadata": {},
   "outputs": [
    {
     "data": {
      "text/plain": [
       "'True'"
      ]
     },
     "execution_count": 7,
     "metadata": {},
     "output_type": "execute_result"
    }
   ],
   "source": [
    "os.environ.setdefault('DJANGO_ALLOW_ASYNC_UNSAFE', 'True')"
   ]
  },
  {
   "cell_type": "code",
   "execution_count": 8,
   "metadata": {},
   "outputs": [],
   "source": [
    "django.setup()"
   ]
  },
  {
   "cell_type": "code",
   "execution_count": 9,
   "metadata": {},
   "outputs": [],
   "source": [
    "from scores.models import Score"
   ]
  },
  {
   "cell_type": "code",
   "execution_count": 10,
   "metadata": {},
   "outputs": [],
   "source": [
    "scores = Score.objects.all()"
   ]
  },
  {
   "cell_type": "code",
   "execution_count": 52,
   "metadata": {},
   "outputs": [],
   "source": [
    "from django.db.models.aggregates import Avg, Sum, Count\n",
    "from django.db.models import When, Case, Q\n",
    "from scores.choices import POSITIVE_EMOTIONS, NEGATIVE_EMOTIONS\n",
    "from scores.choices import SkinColor"
   ]
  },
  {
   "cell_type": "code",
   "execution_count": 53,
   "metadata": {},
   "outputs": [],
   "source": [
    "logic1 = When(Q(emotion__in=POSITIVE_EMOTIONS), 1)\n",
    "logic2 = When(Q(emotion__in=NEGATIVE_EMOTIONS), 0)\n",
    "cases = Case(logic1, logic2)"
   ]
  },
  {
   "cell_type": "code",
   "execution_count": 56,
   "metadata": {},
   "outputs": [],
   "source": [
    "# Glabal statistics\n",
    "statistics = scores.annotate(average=Avg('numeric'), emotion_numeric=cases)"
   ]
  },
  {
   "cell_type": "code",
   "execution_count": 59,
   "metadata": {},
   "outputs": [],
   "source": [
    "# By skin color\n",
    "white_skintones = scores.filter(image__skin_color=SkinColor.WHITE)\n",
    "black_skintones = scores.filter(image__skin_color=SkinColor.BLACK)\n"
   ]
  },
  {
   "cell_type": "code",
   "execution_count": 61,
   "metadata": {},
   "outputs": [],
   "source": [
    "stats_white_skintones = white_skintones.annotate(average=Avg('numeric'), emotion_numeric=cases)\n",
    "stats_black_skintones = white_skintones.annotate(average=Avg('numeric'), emotion_numeric=cases)"
   ]
  },
  {
   "cell_type": "code",
   "execution_count": 68,
   "metadata": {},
   "outputs": [],
   "source": [
    "fields = ['id', 'image__image', 'average', 'emotion_numeric']\n",
    "stat1 = statistics.values(*fields)\n",
    "stat2 = stats_white_skintones.values(*fields)\n",
    "stat3 = stats_black_skintones.values(*fields)"
   ]
  },
  {
   "cell_type": "code",
   "execution_count": 71,
   "metadata": {},
   "outputs": [],
   "source": [
    "# Average score for all the website\n",
    "global_average_score = scores.aggregate(Avg('numeric'))\n"
   ]
  },
  {
   "cell_type": "code",
   "execution_count": 81,
   "metadata": {},
   "outputs": [],
   "source": [
    "# How emotions distribute by count globally\n",
    "negative_emotions = scores.annotate(emotion_numeric=cases).filter(Q(emotion_numeric=0))\n",
    "positive_emotions = scores.annotate(emotion_numeric=cases).filter(Q(emotion_numeric=1))\n",
    "\n",
    "count_negative_emotions = negative_emotions.aggregate(Count('emotion_numeric'))\n",
    "count_positive_emotions = positive_emotions.aggregate(Count('emotion_numeric'))"
   ]
  },
  {
   "cell_type": "code",
   "execution_count": 82,
   "metadata": {},
   "outputs": [],
   "source": [
    "# How emotions distribute by skin tones\n",
    "# negative_emotions1 = scores.filter(image__skin_tone=SkinColor.WHITE).annotate(emotion_numeric=cases).filter(Q(emotion_numeric=0))\n",
    "# positive_emotions1 = scores.filter(image__skin_color=SkinColor.WHITE).annotate(emotion_numeric=cases).filter(Q(emotion_numeric=1))\n",
    "\n",
    "# positive_emotions = scores.annotate(emotion_numeric=cases).filter(Q(emotion_numeric=1))\n",
    "\n",
    "# count_negative_emotions = negative_emotions.aggregate(Count('emotion_numeric'))\n",
    "# count_positive_emotions = positive_emotions.aggregate(Count('emotion_numeric'))"
   ]
  },
  {
   "cell_type": "code",
   "execution_count": 107,
   "metadata": {},
   "outputs": [],
   "source": [
    "import pandas"
   ]
  },
  {
   "cell_type": "code",
   "execution_count": 126,
   "metadata": {},
   "outputs": [],
   "source": [
    "df = pandas.DataFrame(data=scores.values('id', 'image__image', 'image__skin_color', 'numeric', 'emotion'))"
   ]
  },
  {
   "cell_type": "code",
   "execution_count": 127,
   "metadata": {},
   "outputs": [],
   "source": [
    "df2 = df.rename(columns={'image__image': 'image', 'image__skin_color': 'skin_color'})"
   ]
  },
  {
   "cell_type": "code",
   "execution_count": 128,
   "metadata": {},
   "outputs": [],
   "source": [
    "def transform_emotions(emotion):\n",
    "    if emotion in POSITIVE_EMOTIONS:\n",
    "        return 1\n",
    "    else:\n",
    "        return 0\n",
    "\n",
    "df2['emotion_numeric'] = df2['emotion'].apply(transform_emotions)"
   ]
  },
  {
   "cell_type": "code",
   "execution_count": 129,
   "metadata": {},
   "outputs": [],
   "source": [
    "df_scores = df2[['image', 'skin_color', 'numeric', 'emotion_numeric']]"
   ]
  },
  {
   "cell_type": "code",
   "execution_count": 130,
   "metadata": {},
   "outputs": [
    {
     "data": {
      "text/html": [
       "<div>\n",
       "<style scoped>\n",
       "    .dataframe tbody tr th:only-of-type {\n",
       "        vertical-align: middle;\n",
       "    }\n",
       "\n",
       "    .dataframe tbody tr th {\n",
       "        vertical-align: top;\n",
       "    }\n",
       "\n",
       "    .dataframe thead th {\n",
       "        text-align: right;\n",
       "    }\n",
       "</style>\n",
       "<table border=\"1\" class=\"dataframe\">\n",
       "  <thead>\n",
       "    <tr style=\"text-align: right;\">\n",
       "      <th></th>\n",
       "      <th>image</th>\n",
       "      <th>skin_color</th>\n",
       "      <th>numeric</th>\n",
       "      <th>emotion_numeric</th>\n",
       "    </tr>\n",
       "  </thead>\n",
       "  <tbody>\n",
       "    <tr>\n",
       "      <th>0</th>\n",
       "      <td>white\\fw1.jpg</td>\n",
       "      <td>White</td>\n",
       "      <td>1</td>\n",
       "      <td>1</td>\n",
       "    </tr>\n",
       "    <tr>\n",
       "      <th>1</th>\n",
       "      <td>black\\fw158.jpg</td>\n",
       "      <td>Black</td>\n",
       "      <td>3</td>\n",
       "      <td>0</td>\n",
       "    </tr>\n",
       "  </tbody>\n",
       "</table>\n",
       "</div>"
      ],
      "text/plain": [
       "             image skin_color  numeric  emotion_numeric\n",
       "0    white\\fw1.jpg      White        1                1\n",
       "1  black\\fw158.jpg      Black        3                0"
      ]
     },
     "execution_count": 130,
     "metadata": {},
     "output_type": "execute_result"
    }
   ],
   "source": [
    "df_scores"
   ]
  },
  {
   "cell_type": "code",
   "execution_count": 149,
   "metadata": {},
   "outputs": [
    {
     "data": {
      "text/html": [
       "<div>\n",
       "<style scoped>\n",
       "    .dataframe tbody tr th:only-of-type {\n",
       "        vertical-align: middle;\n",
       "    }\n",
       "\n",
       "    .dataframe tbody tr th {\n",
       "        vertical-align: top;\n",
       "    }\n",
       "\n",
       "    .dataframe thead th {\n",
       "        text-align: right;\n",
       "    }\n",
       "</style>\n",
       "<table border=\"1\" class=\"dataframe\">\n",
       "  <thead>\n",
       "    <tr style=\"text-align: right;\">\n",
       "      <th></th>\n",
       "      <th>numeric</th>\n",
       "      <th>emotion_numeric</th>\n",
       "    </tr>\n",
       "  </thead>\n",
       "  <tbody>\n",
       "    <tr>\n",
       "      <th>count</th>\n",
       "      <td>2.000000</td>\n",
       "      <td>2.000000</td>\n",
       "    </tr>\n",
       "    <tr>\n",
       "      <th>mean</th>\n",
       "      <td>2.000000</td>\n",
       "      <td>0.500000</td>\n",
       "    </tr>\n",
       "    <tr>\n",
       "      <th>std</th>\n",
       "      <td>1.414214</td>\n",
       "      <td>0.707107</td>\n",
       "    </tr>\n",
       "    <tr>\n",
       "      <th>min</th>\n",
       "      <td>1.000000</td>\n",
       "      <td>0.000000</td>\n",
       "    </tr>\n",
       "    <tr>\n",
       "      <th>25%</th>\n",
       "      <td>1.500000</td>\n",
       "      <td>0.250000</td>\n",
       "    </tr>\n",
       "    <tr>\n",
       "      <th>50%</th>\n",
       "      <td>2.000000</td>\n",
       "      <td>0.500000</td>\n",
       "    </tr>\n",
       "    <tr>\n",
       "      <th>75%</th>\n",
       "      <td>2.500000</td>\n",
       "      <td>0.750000</td>\n",
       "    </tr>\n",
       "    <tr>\n",
       "      <th>max</th>\n",
       "      <td>3.000000</td>\n",
       "      <td>1.000000</td>\n",
       "    </tr>\n",
       "  </tbody>\n",
       "</table>\n",
       "</div>"
      ],
      "text/plain": [
       "        numeric  emotion_numeric\n",
       "count  2.000000         2.000000\n",
       "mean   2.000000         0.500000\n",
       "std    1.414214         0.707107\n",
       "min    1.000000         0.000000\n",
       "25%    1.500000         0.250000\n",
       "50%    2.000000         0.500000\n",
       "75%    2.500000         0.750000\n",
       "max    3.000000         1.000000"
      ]
     },
     "execution_count": 149,
     "metadata": {},
     "output_type": "execute_result"
    }
   ],
   "source": [
    "df_scores.describe()"
   ]
  },
  {
   "cell_type": "code",
   "execution_count": 186,
   "metadata": {},
   "outputs": [
    {
     "data": {
      "text/plain": [
       "{'count': 2,\n",
       " 'xxxx': None,\n",
       " 'emotions': {'positive': 1,\n",
       "  'negative': 1,\n",
       "  'by_skin_tones': {'black': {'positive': None, 'negative': None},\n",
       "   'white': {'positive': None, 'negative': None}}},\n",
       " 'scores': {'average': 2.0,\n",
       "  'by_skin_tones': {'labels': ['Black', 'White'],\n",
       "   'datasets': [{'label': 'Score by skin color',\n",
       "     'color': None,\n",
       "     'data': [3.0, 1.0]}]}}}"
      ]
     },
     "execution_count": 186,
     "metadata": {},
     "output_type": "execute_result"
    }
   ],
   "source": [
    "scores_by_skin_tones = dict(df_scores.groupby('skin_color')['numeric'].mean())\n",
    "\n",
    "stats = {\n",
    "    'count': df_scores['numeric'].count(),\n",
    "    'xxxx': None,\n",
    "    'emotions': {\n",
    "        'positive': df_scores[df_scores['emotion_numeric'] == 1]['numeric'].count(),\n",
    "        'negative': df_scores[df_scores['emotion_numeric'] == 0]['numeric'].count(),\n",
    "        'by_skin_tones': {\n",
    "            'black': {\n",
    "                'positive': None,\n",
    "                'negative': None\n",
    "            },\n",
    "            'white': {\n",
    "                'positive': None,\n",
    "                'negative': None\n",
    "            }\n",
    "        }\n",
    "    },\n",
    "    'scores': {\n",
    "        'average': df_scores['numeric'].mean(),\n",
    "        'by_skin_tones': {\n",
    "            'labels': list(scores_by_skin_tones.keys()),\n",
    "            'datasets': [\n",
    "                {\n",
    "                    'label': 'Score by skin color',\n",
    "                    'color': None,\n",
    "                    'data': list(scores_by_skin_tones.values())\n",
    "                }\n",
    "            ]\n",
    "        }\n",
    "    }\n",
    "}\n",
    "stats\n"
   ]
  },
  {
   "cell_type": "code",
   "execution_count": 199,
   "metadata": {},
   "outputs": [
    {
     "data": {
      "text/plain": [
       "0     True\n",
       "1    False\n",
       "Name: numeric, dtype: bool"
      ]
     },
     "execution_count": 199,
     "metadata": {},
     "output_type": "execute_result"
    }
   ],
   "source": [
    "df_scores['skin_color'] == 'Black'\n",
    "df_scores['numeric'] == 1\n"
   ]
  }
 ],
 "metadata": {
  "interpreter": {
   "hash": "a0bd6618edf0d14bd6f3961f5ce864ba9026d0b90c30defed834a200c37c8344"
  },
  "kernelspec": {
   "display_name": "Python 3.10.0 64-bit",
   "language": "python",
   "name": "python3"
  },
  "language_info": {
   "codemirror_mode": {
    "name": "ipython",
    "version": 3
   },
   "file_extension": ".py",
   "mimetype": "text/x-python",
   "name": "python",
   "nbconvert_exporter": "python",
   "pygments_lexer": "ipython3",
   "version": "3.10.0"
  },
  "orig_nbformat": 4
 },
 "nbformat": 4,
 "nbformat_minor": 2
}
