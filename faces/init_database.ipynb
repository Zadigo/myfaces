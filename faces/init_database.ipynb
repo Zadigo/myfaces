{
 "cells": [
  {
   "cell_type": "code",
   "execution_count": 1,
   "metadata": {},
   "outputs": [],
   "source": [
    "import pathlib\n",
    "import pandas\n",
    "from matplotlib import pyplot"
   ]
  },
  {
   "cell_type": "code",
   "execution_count": 2,
   "metadata": {},
   "outputs": [],
   "source": [
    "path = pathlib.Path('media').absolute()"
   ]
  },
  {
   "cell_type": "code",
   "execution_count": 3,
   "metadata": {},
   "outputs": [],
   "source": [
    "white_women = list(path.joinpath('white').glob('**/*'))\n",
    "black_women = list(path.joinpath('black').glob('**/*'))"
   ]
  },
  {
   "cell_type": "code",
   "execution_count": 4,
   "metadata": {},
   "outputs": [],
   "source": [
    "def assemble(files, skin_color):\n",
    "    for file in files:\n",
    "        yield {\n",
    "            'name': file.stem,\n",
    "            'filename': file.name,\n",
    "            'path': file,\n",
    "            'skin_color': skin_color\n",
    "        }\n",
    "\n",
    "white_women_objs = list(assemble(white_women, 'White'))\n",
    "black_women_objs = list(assemble(black_women, 'Black'))"
   ]
  },
  {
   "cell_type": "code",
   "execution_count": 5,
   "metadata": {},
   "outputs": [],
   "source": [
    "ASSEMBLED_FACES = white_women_objs + black_women_objs"
   ]
  },
  {
   "cell_type": "code",
   "execution_count": 6,
   "metadata": {},
   "outputs": [],
   "source": [
    "df1 = pandas.DataFrame(white_women_objs, columns=['name', 'skin_color'])\n",
    "df2 = pandas.DataFrame(black_women_objs, columns=['name', 'skin_color'])"
   ]
  },
  {
   "cell_type": "code",
   "execution_count": 7,
   "metadata": {},
   "outputs": [],
   "source": [
    "df = pandas.concat([df1, df2])"
   ]
  },
  {
   "cell_type": "code",
   "execution_count": 8,
   "metadata": {},
   "outputs": [
    {
     "data": {
      "text/html": [
       "<div>\n",
       "<style scoped>\n",
       "    .dataframe tbody tr th:only-of-type {\n",
       "        vertical-align: middle;\n",
       "    }\n",
       "\n",
       "    .dataframe tbody tr th {\n",
       "        vertical-align: top;\n",
       "    }\n",
       "\n",
       "    .dataframe thead th {\n",
       "        text-align: right;\n",
       "    }\n",
       "</style>\n",
       "<table border=\"1\" class=\"dataframe\">\n",
       "  <thead>\n",
       "    <tr style=\"text-align: right;\">\n",
       "      <th></th>\n",
       "      <th>name</th>\n",
       "      <th>skin_color</th>\n",
       "    </tr>\n",
       "  </thead>\n",
       "  <tbody>\n",
       "    <tr>\n",
       "      <th>0</th>\n",
       "      <td>fw1</td>\n",
       "      <td>White</td>\n",
       "    </tr>\n",
       "    <tr>\n",
       "      <th>1</th>\n",
       "      <td>fw10</td>\n",
       "      <td>White</td>\n",
       "    </tr>\n",
       "    <tr>\n",
       "      <th>2</th>\n",
       "      <td>fw100</td>\n",
       "      <td>White</td>\n",
       "    </tr>\n",
       "  </tbody>\n",
       "</table>\n",
       "</div>"
      ],
      "text/plain": [
       "    name skin_color\n",
       "0    fw1      White\n",
       "1   fw10      White\n",
       "2  fw100      White"
      ]
     },
     "execution_count": 8,
     "metadata": {},
     "output_type": "execute_result"
    }
   ],
   "source": [
    "df.head(3)"
   ]
  },
  {
   "cell_type": "code",
   "execution_count": 9,
   "metadata": {},
   "outputs": [],
   "source": [
    "group = df.groupby('skin_color')['name'].count()"
   ]
  },
  {
   "cell_type": "code",
   "execution_count": 10,
   "metadata": {},
   "outputs": [
    {
     "data": {
      "image/png": "[encoded data removed]",
      "text/plain": [
       "<Figure size 640x480 with 1 Axes>"
      ]
     },
     "metadata": {},
     "output_type": "display_data"
    }
   ],
   "source": [
    "group.plot(kind='bar')\n",
    "pyplot.title('distribution')\n",
    "pyplot.ylabel('Distribution')\n",
    "pyplot.xlabel('Skin color')\n",
    "pyplot.show()"
   ]
  },
  {
   "cell_type": "code",
   "execution_count": 11,
   "metadata": {},
   "outputs": [],
   "source": [
    "import os\n",
    "import django\n",
    "from django.conf import settings"
   ]
  },
  {
   "cell_type": "code",
   "execution_count": 12,
   "metadata": {},
   "outputs": [],
   "source": [
    "BASE_DIR = pathlib.Path('.')\n"
   ]
  },
  {
   "cell_type": "code",
   "execution_count": 13,
   "metadata": {},
   "outputs": [],
   "source": [
    "DATABASES = {\n",
    "    'default': {\n",
    "        'ENGINE': 'django.db.backends.sqlite3',\n",
    "        'NAME': 'my_faces.sqlite3'\n",
    "    }\n",
    "}\n",
    "\n",
    "# {\n",
    "#     'default': {\n",
    "#         'ENGINE': 'django.db.backends.postgresql',\n",
    "#         'NAME': 'my_faces',\n",
    "#         'USER': 'test_user',\n",
    "#         'PASSWORD': 'touparet',\n",
    "#         'HOST': 'localhost',\n",
    "#         'PORT': '5432',\n",
    "#     }\n",
    "# }"
   ]
  },
  {
   "cell_type": "code",
   "execution_count": 14,
   "metadata": {},
   "outputs": [],
   "source": [
    "settings.configure(\n",
    "    BASE_DIR=BASE_DIR,\n",
    "    INSTALLED_APPS=[\n",
    "        'django.contrib.admin',\n",
    "        'django.contrib.auth',\n",
    "        'django.contrib.contenttypes',\n",
    "        'django.contrib.sessions',\n",
    "        'django.contrib.messages',\n",
    "        'django.contrib.staticfiles',\n",
    "\n",
    "        'scores'\n",
    "    ],\n",
    "    DATABASES=DATABASES,\n",
    "    MEDIA_URL='/media/',\n",
    "    MEDIA_ROOT=BASE_DIR.joinpath('media'),\n",
    "    CACHES={\n",
    "        'default': {\n",
    "            'BACKEND': 'django.core.cache.backends.filebased.FileBasedCache',\n",
    "            'LOCATION': BASE_DIR.joinpath('cache'),\n",
    "        }\n",
    "    }\n",
    ")"
   ]
  },
  {
   "cell_type": "code",
   "execution_count": 15,
   "metadata": {},
   "outputs": [
    {
     "data": {
      "text/plain": [
       "'True'"
      ]
     },
     "execution_count": 15,
     "metadata": {},
     "output_type": "execute_result"
    }
   ],
   "source": [
    "os.environ.setdefault('DJANGO_ALLOW_ASYNC_UNSAFE', 'True')"
   ]
  },
  {
   "cell_type": "code",
   "execution_count": 16,
   "metadata": {},
   "outputs": [],
   "source": [
    "django.setup()"
   ]
  },
  {
   "cell_type": "markdown",
   "metadata": {},
   "source": [
    "## Populate database"
   ]
  },
  {
   "cell_type": "code",
   "execution_count": 17,
   "metadata": {},
   "outputs": [],
   "source": [
    "from django.core.files import File\n",
    "from scores.models import Face"
   ]
  },
  {
   "cell_type": "code",
   "execution_count": 18,
   "metadata": {},
   "outputs": [
    {
     "data": {
      "text/plain": [
       "[<Face: Face: 1331>,\n",
       " <Face: Face: 1332>,\n",
       " <Face: Face: 1333>,\n",
       " <Face: Face: 1334>,\n",
       " <Face: Face: 1335>,\n",
       " <Face: Face: 1336>,\n",
       " <Face: Face: 1337>,\n",
       " <Face: Face: 1338>,\n",
       " <Face: Face: 1339>,\n",
       " <Face: Face: 1340>,\n",
       " <Face: Face: 1341>,\n",
       " <Face: Face: 1342>,\n",
       " <Face: Face: 1343>,\n",
       " <Face: Face: 1344>,\n",
       " <Face: Face: 1345>,\n",
       " <Face: Face: 1346>,\n",
       " <Face: Face: 1347>,\n",
       " <Face: Face: 1348>,\n",
       " <Face: Face: 1349>,\n",
       " <Face: Face: 1350>,\n",
       " <Face: Face: 1351>,\n",
       " <Face: Face: 1352>,\n",
       " <Face: Face: 1353>,\n",
       " <Face: Face: 1354>,\n",
       " <Face: Face: 1355>,\n",
       " <Face: Face: 1356>,\n",
       " <Face: Face: 1357>,\n",
       " <Face: Face: 1358>,\n",
       " <Face: Face: 1359>,\n",
       " <Face: Face: 1360>,\n",
       " <Face: Face: 1361>,\n",
       " <Face: Face: 1362>,\n",
       " <Face: Face: 1363>,\n",
       " <Face: Face: 1364>,\n",
       " <Face: Face: 1365>,\n",
       " <Face: Face: 1366>,\n",
       " <Face: Face: 1367>,\n",
       " <Face: Face: 1368>,\n",
       " <Face: Face: 1369>,\n",
       " <Face: Face: 1370>,\n",
       " <Face: Face: 1371>,\n",
       " <Face: Face: 1372>,\n",
       " <Face: Face: 1373>,\n",
       " <Face: Face: 1374>,\n",
       " <Face: Face: 1375>,\n",
       " <Face: Face: 1376>,\n",
       " <Face: Face: 1377>,\n",
       " <Face: Face: 1378>,\n",
       " <Face: Face: 1379>,\n",
       " <Face: Face: 1380>,\n",
       " <Face: Face: 1381>,\n",
       " <Face: Face: 1382>,\n",
       " <Face: Face: 1383>,\n",
       " <Face: Face: 1384>,\n",
       " <Face: Face: 1385>,\n",
       " <Face: Face: 1386>,\n",
       " <Face: Face: 1387>,\n",
       " <Face: Face: 1388>,\n",
       " <Face: Face: 1389>,\n",
       " <Face: Face: 1390>,\n",
       " <Face: Face: 1391>,\n",
       " <Face: Face: 1392>,\n",
       " <Face: Face: 1393>,\n",
       " <Face: Face: 1394>,\n",
       " <Face: Face: 1395>,\n",
       " <Face: Face: 1396>,\n",
       " <Face: Face: 1397>,\n",
       " <Face: Face: 1398>,\n",
       " <Face: Face: 1399>,\n",
       " <Face: Face: 1400>,\n",
       " <Face: Face: 1401>,\n",
       " <Face: Face: 1402>,\n",
       " <Face: Face: 1403>,\n",
       " <Face: Face: 1404>,\n",
       " <Face: Face: 1405>,\n",
       " <Face: Face: 1406>,\n",
       " <Face: Face: 1407>,\n",
       " <Face: Face: 1408>,\n",
       " <Face: Face: 1409>,\n",
       " <Face: Face: 1410>,\n",
       " <Face: Face: 1411>,\n",
       " <Face: Face: 1412>,\n",
       " <Face: Face: 1413>,\n",
       " <Face: Face: 1414>,\n",
       " <Face: Face: 1415>,\n",
       " <Face: Face: 1416>,\n",
       " <Face: Face: 1417>,\n",
       " <Face: Face: 1418>,\n",
       " <Face: Face: 1419>,\n",
       " <Face: Face: 1420>,\n",
       " <Face: Face: 1421>,\n",
       " <Face: Face: 1422>,\n",
       " <Face: Face: 1423>,\n",
       " <Face: Face: 1424>,\n",
       " <Face: Face: 1425>,\n",
       " <Face: Face: 1426>,\n",
       " <Face: Face: 1427>,\n",
       " <Face: Face: 1428>,\n",
       " <Face: Face: 1429>,\n",
       " <Face: Face: 1430>,\n",
       " <Face: Face: 1431>,\n",
       " <Face: Face: 1432>,\n",
       " <Face: Face: 1433>,\n",
       " <Face: Face: 1434>,\n",
       " <Face: Face: 1435>,\n",
       " <Face: Face: 1436>,\n",
       " <Face: Face: 1437>,\n",
       " <Face: Face: 1438>,\n",
       " <Face: Face: 1439>,\n",
       " <Face: Face: 1440>,\n",
       " <Face: Face: 1441>,\n",
       " <Face: Face: 1442>,\n",
       " <Face: Face: 1443>,\n",
       " <Face: Face: 1444>,\n",
       " <Face: Face: 1445>,\n",
       " <Face: Face: 1446>,\n",
       " <Face: Face: 1447>,\n",
       " <Face: Face: 1448>,\n",
       " <Face: Face: 1449>,\n",
       " <Face: Face: 1450>,\n",
       " <Face: Face: 1451>,\n",
       " <Face: Face: 1452>,\n",
       " <Face: Face: 1453>,\n",
       " <Face: Face: 1454>,\n",
       " <Face: Face: 1455>,\n",
       " <Face: Face: 1456>,\n",
       " <Face: Face: 1457>,\n",
       " <Face: Face: 1458>,\n",
       " <Face: Face: 1459>,\n",
       " <Face: Face: 1460>,\n",
       " <Face: Face: 1461>,\n",
       " <Face: Face: 1462>,\n",
       " <Face: Face: 1463>,\n",
       " <Face: Face: 1464>,\n",
       " <Face: Face: 1465>,\n",
       " <Face: Face: 1466>,\n",
       " <Face: Face: 1467>,\n",
       " <Face: Face: 1468>,\n",
       " <Face: Face: 1469>,\n",
       " <Face: Face: 1470>,\n",
       " <Face: Face: 1471>,\n",
       " <Face: Face: 1472>,\n",
       " <Face: Face: 1473>,\n",
       " <Face: Face: 1474>,\n",
       " <Face: Face: 1475>,\n",
       " <Face: Face: 1476>,\n",
       " <Face: Face: 1477>,\n",
       " <Face: Face: 1478>,\n",
       " <Face: Face: 1479>,\n",
       " <Face: Face: 1480>,\n",
       " <Face: Face: 1481>,\n",
       " <Face: Face: 1482>,\n",
       " <Face: Face: 1483>,\n",
       " <Face: Face: 1484>,\n",
       " <Face: Face: 1485>,\n",
       " <Face: Face: 1486>,\n",
       " <Face: Face: 1487>,\n",
       " <Face: Face: 1488>,\n",
       " <Face: Face: 1489>,\n",
       " <Face: Face: 1490>,\n",
       " <Face: Face: 1491>,\n",
       " <Face: Face: 1492>,\n",
       " <Face: Face: 1493>,\n",
       " <Face: Face: 1494>,\n",
       " <Face: Face: 1495>,\n",
       " <Face: Face: 1496>,\n",
       " <Face: Face: 1497>,\n",
       " <Face: Face: 1498>,\n",
       " <Face: Face: 1499>,\n",
       " <Face: Face: 1500>,\n",
       " <Face: Face: 1501>,\n",
       " <Face: Face: 1502>,\n",
       " <Face: Face: 1503>,\n",
       " <Face: Face: 1504>,\n",
       " <Face: Face: 1505>,\n",
       " <Face: Face: 1506>,\n",
       " <Face: Face: 1507>,\n",
       " <Face: Face: 1508>,\n",
       " <Face: Face: 1509>,\n",
       " <Face: Face: 1510>,\n",
       " <Face: Face: 1511>,\n",
       " <Face: Face: 1512>,\n",
       " <Face: Face: 1513>,\n",
       " <Face: Face: 1514>,\n",
       " <Face: Face: 1515>,\n",
       " <Face: Face: 1516>,\n",
       " <Face: Face: 1517>,\n",
       " <Face: Face: 1518>,\n",
       " <Face: Face: 1519>,\n",
       " <Face: Face: 1520>,\n",
       " <Face: Face: 1521>,\n",
       " <Face: Face: 1522>,\n",
       " <Face: Face: 1523>,\n",
       " <Face: Face: 1524>,\n",
       " <Face: Face: 1525>,\n",
       " <Face: Face: 1526>,\n",
       " <Face: Face: 1527>,\n",
       " <Face: Face: 1528>,\n",
       " <Face: Face: 1529>,\n",
       " <Face: Face: 1530>,\n",
       " <Face: Face: 1531>,\n",
       " <Face: Face: 1532>,\n",
       " <Face: Face: 1533>,\n",
       " <Face: Face: 1534>,\n",
       " <Face: Face: 1535>,\n",
       " <Face: Face: 1536>,\n",
       " <Face: Face: 1537>,\n",
       " <Face: Face: 1538>,\n",
       " <Face: Face: 1539>,\n",
       " <Face: Face: 1540>,\n",
       " <Face: Face: 1541>,\n",
       " <Face: Face: 1542>,\n",
       " <Face: Face: 1543>,\n",
       " <Face: Face: 1544>,\n",
       " <Face: Face: 1545>,\n",
       " <Face: Face: 1546>,\n",
       " <Face: Face: 1547>,\n",
       " <Face: Face: 1548>,\n",
       " <Face: Face: 1549>,\n",
       " <Face: Face: 1550>,\n",
       " <Face: Face: 1551>,\n",
       " <Face: Face: 1552>,\n",
       " <Face: Face: 1553>,\n",
       " <Face: Face: 1554>,\n",
       " <Face: Face: 1555>,\n",
       " <Face: Face: 1556>,\n",
       " <Face: Face: 1557>,\n",
       " <Face: Face: 1558>,\n",
       " <Face: Face: 1559>,\n",
       " <Face: Face: 1560>,\n",
       " <Face: Face: 1561>,\n",
       " <Face: Face: 1562>,\n",
       " <Face: Face: 1563>,\n",
       " <Face: Face: 1564>,\n",
       " <Face: Face: 1565>,\n",
       " <Face: Face: 1566>,\n",
       " <Face: Face: 1567>,\n",
       " <Face: Face: 1568>,\n",
       " <Face: Face: 1569>,\n",
       " <Face: Face: 1570>,\n",
       " <Face: Face: 1571>,\n",
       " <Face: Face: 1572>,\n",
       " <Face: Face: 1573>,\n",
       " <Face: Face: 1574>,\n",
       " <Face: Face: 1575>,\n",
       " <Face: Face: 1576>,\n",
       " <Face: Face: 1577>,\n",
       " <Face: Face: 1578>,\n",
       " <Face: Face: 1579>,\n",
       " <Face: Face: 1580>,\n",
       " <Face: Face: 1581>,\n",
       " <Face: Face: 1582>,\n",
       " <Face: Face: 1583>,\n",
       " <Face: Face: 1584>,\n",
       " <Face: Face: 1585>,\n",
       " <Face: Face: 1586>,\n",
       " <Face: Face: 1587>,\n",
       " <Face: Face: 1588>,\n",
       " <Face: Face: 1589>,\n",
       " <Face: Face: 1590>,\n",
       " <Face: Face: 1591>,\n",
       " <Face: Face: 1592>,\n",
       " <Face: Face: 1593>,\n",
       " <Face: Face: 1594>,\n",
       " <Face: Face: 1595>,\n",
       " <Face: Face: 1596>]"
      ]
     },
     "execution_count": 18,
     "metadata": {},
     "output_type": "execute_result"
    }
   ],
   "source": [
    "            \n",
    "def popoulate_database(commit=False):\n",
    "    def prepare_images():\n",
    "        for item in ASSEMBLED_FACES:\n",
    "            obj = File(open(item['path'], mode='rb'), name=item['filename'])\n",
    "            yield Face(image=obj, skin_color=item['skin_color'])\n",
    "                \n",
    "    if commit:        \n",
    "        return Face.objects.bulk_create(prepare_images())\n",
    "    return prepare_images()\n",
    "\n",
    "popoulate_database(commit=True)"
   ]
  },
  {
   "cell_type": "markdown",
   "metadata": {},
   "source": [
    "## Create CSV File"
   ]
  },
  {
   "cell_type": "code",
   "execution_count": 19,
   "metadata": {},
   "outputs": [
    {
     "ename": "NameError",
     "evalue": "name 'f1' is not defined",
     "output_type": "error",
     "traceback": [
      "\u001b[1;31m---------------------------------------------------------------------------\u001b[0m",
      "\u001b[1;31mNameError\u001b[0m                                 Traceback (most recent call last)",
      "Cell \u001b[1;32mIn [19], line 6\u001b[0m\n\u001b[0;32m      3\u001b[0m \u001b[38;5;28;01mdef\u001b[39;00m \u001b[38;5;21mto_dataframe\u001b[39m(data):\n\u001b[0;32m      4\u001b[0m     \u001b[38;5;28;01mreturn\u001b[39;00m pandas\u001b[38;5;241m.\u001b[39mDataFrame(data\u001b[38;5;241m=\u001b[39mdata, columns\u001b[38;5;241m=\u001b[39m[\u001b[38;5;124m'\u001b[39m\u001b[38;5;124mpath\u001b[39m\u001b[38;5;124m'\u001b[39m, \u001b[38;5;124m'\u001b[39m\u001b[38;5;124mskin_color\u001b[39m\u001b[38;5;124m'\u001b[39m])\n\u001b[1;32m----> 6\u001b[0m p1 \u001b[38;5;241m=\u001b[39m to_dataframe(\u001b[43mf1\u001b[49m)\n\u001b[0;32m      7\u001b[0m p2 \u001b[38;5;241m=\u001b[39m to_dataframe(f2)\n",
      "\u001b[1;31mNameError\u001b[0m: name 'f1' is not defined"
     ]
    }
   ],
   "source": [
    "import pandas\n",
    "\n",
    "def to_dataframe(data):\n",
    "    return pandas.DataFrame(data=data, columns=['path', 'skin_color'])\n",
    "\n",
    "p1 = to_dataframe(f1)\n",
    "p2 = to_dataframe(f2)"
   ]
  },
  {
   "cell_type": "code",
   "execution_count": null,
   "metadata": {},
   "outputs": [],
   "source": [
    "df = pandas.concat([p1, p2])"
   ]
  },
  {
   "cell_type": "code",
   "execution_count": null,
   "metadata": {},
   "outputs": [],
   "source": [
    "df.to_csv('faces.csv', index=False)"
   ]
  },
  {
   "cell_type": "code",
   "execution_count": null,
   "metadata": {},
   "outputs": [],
   "source": []
  }
 ],
 "metadata": {
  "interpreter": {
   "hash": "a0bd6618edf0d14bd6f3961f5ce864ba9026d0b90c30defed834a200c37c8344"
  },
  "kernelspec": {
   "display_name": "Python 3.10.0 64-bit",
   "name": "python3"
  },
  "language_info": {
   "codemirror_mode": {
    "name": "ipython",
    "version": 3
   },
   "file_extension": ".py",
   "mimetype": "text/x-python",
   "name": "python",
   "nbconvert_exporter": "python",
   "pygments_lexer": "ipython3",
   "version": "3.11.0"
  },
  "orig_nbformat": 4
 },
 "nbformat": 4,
 "nbformat_minor": 2
}
